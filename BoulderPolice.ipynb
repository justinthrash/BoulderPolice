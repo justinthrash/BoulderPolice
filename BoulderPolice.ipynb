{
 "cells": [
  {
   "cell_type": "markdown",
   "metadata": {},
   "source": [
    "# Import Libraries and Data"
   ]
  },
  {
   "cell_type": "code",
   "execution_count": 66,
   "metadata": {},
   "outputs": [],
   "source": [
    "import numpy as np\n",
    "import pandas as pd\n",
    "import matplotlib.pyplot as plt\n",
    "import re\n",
    "from pandas import Series, DataFrame"
   ]
  },
  {
   "cell_type": "code",
   "execution_count": 67,
   "metadata": {},
   "outputs": [],
   "source": [
    "df = pd.read_csv('BPD_Call_Log.csv')\n",
    "dictionary = pd.read_csv('bpd_call_log_data_dictionary.csv')"
   ]
  },
  {
   "cell_type": "markdown",
   "metadata": {},
   "source": [
    "# Clean up data"
   ]
  },
  {
   "cell_type": "markdown",
   "metadata": {},
   "source": [
    "#### Fill in missing ResponseDates from Incident_IDs"
   ]
  },
  {
   "cell_type": "code",
   "execution_count": 68,
   "metadata": {},
   "outputs": [],
   "source": [
    "df.loc[df['ResponseDate'].str.len() == 1, 'ResponseDate'] = df['Incident_ID'] #replace single digits\n",
    "df['ResponseDate'].apply(pd.to_datetime, errors='coerce', format='%H:%M:%S'); #change column to datetime\n",
    "#could potentially change the errors='coerce' to avoid having to do multiple datetime functions below in feature extraction"
   ]
  },
  {
   "cell_type": "markdown",
   "metadata": {},
   "source": [
    "#### Replace missing Problems"
   ]
  },
  {
   "cell_type": "code",
   "execution_count": 69,
   "metadata": {},
   "outputs": [],
   "source": [
    "df['Problem'].fillna(df['CaseNumber'], inplace=True) #fill nans\n",
    "df.loc[df['Problem'].str[:2] == '20', 'Problem'] = df['CaseNumber'] #replace problems that start with a date string"
   ]
  },
  {
   "cell_type": "markdown",
   "metadata": {},
   "source": [
    "#### Get rid of non-addresses"
   ]
  },
  {
   "cell_type": "code",
   "execution_count": 70,
   "metadata": {},
   "outputs": [],
   "source": [
    "df.loc[df['HundredBlock'].str[:3] == 'BPD', 'HundredBlock'] = np.NaN"
   ]
  },
  {
   "cell_type": "markdown",
   "metadata": {},
   "source": [
    "#### Drop metadata columns"
   ]
  },
  {
   "cell_type": "code",
   "execution_count": 71,
   "metadata": {},
   "outputs": [],
   "source": [
    "df.drop([4342, 4343], inplace=True)"
   ]
  },
  {
   "cell_type": "markdown",
   "metadata": {},
   "source": [
    "# Add features"
   ]
  },
  {
   "cell_type": "markdown",
   "metadata": {},
   "source": [
    "#### Add crime class"
   ]
  },
  {
   "cell_type": "code",
   "execution_count": 72,
   "metadata": {},
   "outputs": [],
   "source": [
    "df['Class'] = df.Problem.apply(lambda x: re.split('[^a-zA-Z]', x)[0]) #split out 'class' of crime from the Problem field"
   ]
  },
  {
   "cell_type": "markdown",
   "metadata": {},
   "source": [
    "#### Classify crime types"
   ]
  },
  {
   "cell_type": "code",
   "execution_count": 73,
   "metadata": {},
   "outputs": [],
   "source": [
    "ct = pd.DataFrame({'Class': ['ASSAU', 'ASSISB', 'BURGL', 'CIVILB', 'COENFB', 'CRMIS', 'CRTRE',\n",
    "                            'DISTU', 'DRUNKB', 'DTFB', 'FIREWB', 'FISTRB', 'FRAUD', 'HARAS',\n",
    "                            'HAZARB', 'HOLDB', 'INEXP', 'KIDNA', 'LILAWB', 'LITTEB', 'MAACCB',\n",
    "                            'MENAC', 'MUNIB', 'NARCOB', 'NOISEB', 'OAAB', 'ODORB', 'OPCONB',\n",
    "                            'PARKIB', 'PDACCB', 'ROBBE', 'SASL', 'SHOOTB', 'SHOTS', 'STABB',\n",
    "                            'SUSPI', 'TRESP', 'WEAPO'],\n",
    "                  'Type': ['PERSONAL', 'ASSIST', 'PROPERTY', 'ASSIST', 'STATUTORY', 'PROPERTY', 'STATUTORY',\n",
    "                          'STATUTORY', 'STATUTORY', 'STATUTORY', 'ASSIST', 'ASSIST', 'STATUTORY', 'STATUTORY',\n",
    "                          'ASSIST', 'PERSONAL', 'STATUTORY', 'PERSONAL', 'STATUTORY', 'STATUTORY', 'ASSIST',\n",
    "                          'ASSIST', 'STATUTORY', 'STATUTORY', 'STATUTORY', 'ASSIST', 'ASSIST', 'STATUTORY',\n",
    "                          'STATUTORY', 'PROPERTY', 'PROPERTY', 'PERSONAL', 'PERSONAL', 'PERSONAL', 'PERSONAL',\n",
    "                          'ASSIST', 'STATUTORY', 'STATUTORY']})\n",
    "df = df.merge(ct)"
   ]
  },
  {
   "cell_type": "markdown",
   "metadata": {},
   "source": [
    "#### Parse out hour, day of week and date features"
   ]
  },
  {
   "cell_type": "code",
   "execution_count": 91,
   "metadata": {},
   "outputs": [],
   "source": [
    "df['Hour'] = df.ResponseDate.apply(lambda x: pd.to_datetime(x).hour) #parse out Hour feature\n",
    "df['DayOfWeek'] = df.ResponseDate.apply(lambda x: pd.to_datetime(x).dayofweek) #parse out day of week\n",
    "df['Date'] = df.ResponseDate.apply(lambda x: pd.to_datetime(x).date()) #parse out date"
   ]
  },
  {
   "cell_type": "code",
   "execution_count": null,
   "metadata": {},
   "outputs": [],
   "source": []
  },
  {
   "cell_type": "code",
   "execution_count": null,
   "metadata": {},
   "outputs": [],
   "source": []
  }
 ],
 "metadata": {
  "kernelspec": {
   "display_name": "Python 3",
   "language": "python",
   "name": "python3"
  },
  "language_info": {
   "codemirror_mode": {
    "name": "ipython",
    "version": 3
   },
   "file_extension": ".py",
   "mimetype": "text/x-python",
   "name": "python",
   "nbconvert_exporter": "python",
   "pygments_lexer": "ipython3",
   "version": "3.7.1"
  }
 },
 "nbformat": 4,
 "nbformat_minor": 2
}
