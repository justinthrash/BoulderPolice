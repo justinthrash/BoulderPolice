{
 "cells": [
  {
   "cell_type": "markdown",
   "metadata": {},
   "source": [
    "# Import Libraries and Data"
   ]
  },
  {
   "cell_type": "code",
   "execution_count": 54,
   "metadata": {},
   "outputs": [],
   "source": [
    "import numpy as np\n",
    "import pandas as pd\n",
    "import matplotlib.pyplot as plt\n",
    "import re\n",
    "from pandas import Series, DataFrame"
   ]
  },
  {
   "cell_type": "code",
   "execution_count": 55,
   "metadata": {},
   "outputs": [],
   "source": [
    "df = pd.read_csv('BPD_Call_Log.csv')\n",
    "dictionary = pd.read_csv('bpd_call_log_data_dictionary.csv')"
   ]
  },
  {
   "cell_type": "markdown",
   "metadata": {},
   "source": [
    "# Clean up data"
   ]
  },
  {
   "cell_type": "markdown",
   "metadata": {},
   "source": [
    "#### Fill in missing ResponseDates from Incident_IDs"
   ]
  },
  {
   "cell_type": "code",
   "execution_count": 56,
   "metadata": {},
   "outputs": [],
   "source": [
    "df.loc[df['ResponseDate'].str.len() == 1, 'ResponseDate'] = df['Incident_ID'] #replace single digits\n",
    "df['ResponseDate'].apply(pd.to_datetime, errors='coerce', format='%H:%M:%S'); #change column to datetime\n",
    "#could potentially change the errors='coerce' to avoid having to do multiple datetime functions below in feature extraction"
   ]
  },
  {
   "cell_type": "markdown",
   "metadata": {},
   "source": [
    "#### Replace missing Problems"
   ]
  },
  {
   "cell_type": "code",
   "execution_count": 58,
   "metadata": {},
   "outputs": [],
   "source": [
    "df['Problem'].fillna(df['CaseNumber'], inplace=True) #fill nans\n",
    "df.loc[df['Problem'].str[:2] == '20', 'Problem'] = df['CaseNumber'] #replace problems that start with a date string"
   ]
  },
  {
   "cell_type": "markdown",
   "metadata": {},
   "source": [
    "#### Get rid of non-addresses"
   ]
  },
  {
   "cell_type": "code",
   "execution_count": 59,
   "metadata": {},
   "outputs": [],
   "source": [
    "df.loc[df['HundredBlock'].str[:3] == 'BPD', 'HundredBlock'] = np.NaN"
   ]
  },
  {
   "cell_type": "markdown",
   "metadata": {},
   "source": [
    "#### Drop metadata columns"
   ]
  },
  {
   "cell_type": "code",
   "execution_count": 60,
   "metadata": {},
   "outputs": [],
   "source": [
    "df.drop([4342, 4343], inplace=True)"
   ]
  },
  {
   "cell_type": "markdown",
   "metadata": {},
   "source": [
    "# Add features"
   ]
  },
  {
   "cell_type": "markdown",
   "metadata": {},
   "source": [
    "#### Add crime class"
   ]
  },
  {
   "cell_type": "code",
   "execution_count": 61,
   "metadata": {},
   "outputs": [],
   "source": [
    "df['Class'] = df.Problem.apply(lambda x: re.split('[^a-zA-Z]', x)[0]) #split out 'class' of crime from the Problem field"
   ]
  },
  {
   "cell_type": "markdown",
   "metadata": {},
   "source": [
    "#### Classify crime types"
   ]
  },
  {
   "cell_type": "code",
   "execution_count": 62,
   "metadata": {},
   "outputs": [],
   "source": [
    "ct = pd.DataFrame({'Class': ['ASSAU', 'ASSISB', 'BURGL', 'CIVILB', 'COENFB', 'CRMIS', 'CRTRE',\n",
    "                            'DISTU', 'DRUNKB', 'DTFB', 'FIREWB', 'FISTRB', 'FRAUD', 'HARAS',\n",
    "                            'HAZARB', 'HOLDB', 'INEXP', 'KIDNA', 'LILAWB', 'LITTEB', 'MAACCB',\n",
    "                            'MENAC', 'MUNIB', 'NARCOB', 'NOISEB', 'OAAB', 'ODORB', 'OPCONB',\n",
    "                            'PARKIB', 'PDACCB', 'ROBBE', 'SASL', 'SHOOTB', 'SHOTS', 'STABB',\n",
    "                            'SUSPI', 'TRESP', 'WEAPO'],\n",
    "                  'Type': ['PERSONAL', 'ASSIST', 'PROPERTY', 'ASSIST', 'STATUTORY', 'PROPERTY', 'STATUTORY',\n",
    "                          'STATUTORY', 'STATUTORY', 'STATUTORY', 'ASSIST', 'ASSIST', 'STATUTORY', 'STATUTORY',\n",
    "                          'ASSIST', 'PERSONAL', 'STATUTORY', 'PERSONAL', 'STATUTORY', 'STATUTORY', 'ASSIST',\n",
    "                          'ASSIST', 'STATUTORY', 'STATUTORY', 'STATUTORY', 'ASSIST', 'ASSIST', 'STATUTORY',\n",
    "                          'STATUTORY', 'PROPERTY', 'PROPERTY', 'PERSONAL', 'PERSONAL', 'PERSONAL', 'PERSONAL',\n",
    "                          'ASSIST', 'STATUTORY', 'STATUTORY']})\n",
    "df = df.merge(ct)"
   ]
  },
  {
   "cell_type": "markdown",
   "metadata": {},
   "source": [
    "#### Parse out hour and day of week features"
   ]
  },
  {
   "cell_type": "code",
   "execution_count": 80,
   "metadata": {},
   "outputs": [],
   "source": [
    "df['Hour'] = df.ResponseDate.apply(lambda x: pd.to_datetime(x).hour) #parse out Hour feature\n",
    "df['DayOfWeek'] = df.ResponseDate.apply(lambda x: pd.to_datetime(x).dayofweek) #parse out day of week"
   ]
  },
  {
   "cell_type": "code",
   "execution_count": 79,
   "metadata": {},
   "outputs": [
    {
     "data": {
      "text/html": [
       "<div>\n",
       "<style scoped>\n",
       "    .dataframe tbody tr th:only-of-type {\n",
       "        vertical-align: middle;\n",
       "    }\n",
       "\n",
       "    .dataframe tbody tr th {\n",
       "        vertical-align: top;\n",
       "    }\n",
       "\n",
       "    .dataframe thead th {\n",
       "        text-align: right;\n",
       "    }\n",
       "</style>\n",
       "<table border=\"1\" class=\"dataframe\">\n",
       "  <thead>\n",
       "    <tr style=\"text-align: right;\">\n",
       "      <th></th>\n",
       "      <th>Incident_ID</th>\n",
       "      <th>ResponseDate</th>\n",
       "      <th>CaseNumber</th>\n",
       "      <th>HundredBlock</th>\n",
       "      <th>Problem</th>\n",
       "      <th>Class</th>\n",
       "      <th>Type</th>\n",
       "      <th>Hour</th>\n",
       "      <th>DayOfWeek</th>\n",
       "    </tr>\n",
       "  </thead>\n",
       "  <tbody>\n",
       "    <tr>\n",
       "      <th>0</th>\n",
       "      <td>01/01/2019 00:27:10</td>\n",
       "      <td>01/01/2019 00:27:10</td>\n",
       "      <td>SASL2B-Sex Assault J/O</td>\n",
       "      <td>NaN</td>\n",
       "      <td>SASL2B-Sex Assault J/O</td>\n",
       "      <td>SASL</td>\n",
       "      <td>PERSONAL</td>\n",
       "      <td>0</td>\n",
       "      <td>1</td>\n",
       "    </tr>\n",
       "    <tr>\n",
       "      <th>1</th>\n",
       "      <td>11/15/2018 13:43:07</td>\n",
       "      <td>11/15/2018 13:43:07</td>\n",
       "      <td>SASL2B-Sex Assault J/O</td>\n",
       "      <td>NaN</td>\n",
       "      <td>SASL2B-Sex Assault J/O</td>\n",
       "      <td>SASL</td>\n",
       "      <td>PERSONAL</td>\n",
       "      <td>13</td>\n",
       "      <td>3</td>\n",
       "    </tr>\n",
       "    <tr>\n",
       "      <th>2</th>\n",
       "      <td>11/19/2018 18:17:25</td>\n",
       "      <td>11/19/2018 18:17:25</td>\n",
       "      <td>SASL1B-Sex Assault I/P</td>\n",
       "      <td>NaN</td>\n",
       "      <td>SASL1B-Sex Assault I/P</td>\n",
       "      <td>SASL</td>\n",
       "      <td>PERSONAL</td>\n",
       "      <td>18</td>\n",
       "      <td>0</td>\n",
       "    </tr>\n",
       "    <tr>\n",
       "      <th>3</th>\n",
       "      <td>12/05/2018 10:08:08</td>\n",
       "      <td>12/05/2018 10:08:08</td>\n",
       "      <td>SASL1B-Sex Assault I/P</td>\n",
       "      <td>NaN</td>\n",
       "      <td>SASL1B-Sex Assault I/P</td>\n",
       "      <td>SASL</td>\n",
       "      <td>PERSONAL</td>\n",
       "      <td>10</td>\n",
       "      <td>2</td>\n",
       "    </tr>\n",
       "    <tr>\n",
       "      <th>4</th>\n",
       "      <td>4678716</td>\n",
       "      <td>10/16/2018 6:42:51 PM</td>\n",
       "      <td>NaN</td>\n",
       "      <td>BROADWAY / CANYON BLVD</td>\n",
       "      <td>SASL1B-Sex Assault I/P</td>\n",
       "      <td>SASL</td>\n",
       "      <td>PERSONAL</td>\n",
       "      <td>18</td>\n",
       "      <td>1</td>\n",
       "    </tr>\n",
       "  </tbody>\n",
       "</table>\n",
       "</div>"
      ],
      "text/plain": [
       "           Incident_ID           ResponseDate              CaseNumber  \\\n",
       "0  01/01/2019 00:27:10    01/01/2019 00:27:10  SASL2B-Sex Assault J/O   \n",
       "1  11/15/2018 13:43:07    11/15/2018 13:43:07  SASL2B-Sex Assault J/O   \n",
       "2  11/19/2018 18:17:25    11/19/2018 18:17:25  SASL1B-Sex Assault I/P   \n",
       "3  12/05/2018 10:08:08    12/05/2018 10:08:08  SASL1B-Sex Assault I/P   \n",
       "4              4678716  10/16/2018 6:42:51 PM                     NaN   \n",
       "\n",
       "             HundredBlock                 Problem Class      Type  Hour  \\\n",
       "0                     NaN  SASL2B-Sex Assault J/O  SASL  PERSONAL     0   \n",
       "1                     NaN  SASL2B-Sex Assault J/O  SASL  PERSONAL    13   \n",
       "2                     NaN  SASL1B-Sex Assault I/P  SASL  PERSONAL    18   \n",
       "3                     NaN  SASL1B-Sex Assault I/P  SASL  PERSONAL    10   \n",
       "4  BROADWAY / CANYON BLVD  SASL1B-Sex Assault I/P  SASL  PERSONAL    18   \n",
       "\n",
       "   DayOfWeek  \n",
       "0          1  \n",
       "1          3  \n",
       "2          0  \n",
       "3          2  \n",
       "4          1  "
      ]
     },
     "execution_count": 79,
     "metadata": {},
     "output_type": "execute_result"
    }
   ],
   "source": [
    "df.head()"
   ]
  },
  {
   "cell_type": "code",
   "execution_count": null,
   "metadata": {},
   "outputs": [],
   "source": []
  },
  {
   "cell_type": "code",
   "execution_count": null,
   "metadata": {},
   "outputs": [],
   "source": []
  }
 ],
 "metadata": {
  "kernelspec": {
   "display_name": "Python 3",
   "language": "python",
   "name": "python3"
  },
  "language_info": {
   "codemirror_mode": {
    "name": "ipython",
    "version": 3
   },
   "file_extension": ".py",
   "mimetype": "text/x-python",
   "name": "python",
   "nbconvert_exporter": "python",
   "pygments_lexer": "ipython3",
   "version": "3.7.0"
  }
 },
 "nbformat": 4,
 "nbformat_minor": 2
}
